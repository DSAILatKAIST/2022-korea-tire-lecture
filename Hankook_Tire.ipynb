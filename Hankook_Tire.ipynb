{
  "nbformat": 4,
  "nbformat_minor": 0,
  "metadata": {
    "colab": {
      "provenance": []
    },
    "kernelspec": {
      "name": "python3",
      "display_name": "Python 3"
    },
    "language_info": {
      "name": "python"
    }
  },
  "cells": [
    {
      "cell_type": "markdown",
      "metadata": {
        "id": "lqWn1_e5txeF"
      },
      "source": [
        "# Hankook Tire :  AI 기초 및 응용\n",
        "\n",
        "---\n",
        "## Basic Information\n",
        "- **professor** : Chanyoung Park\n",
        "- **TA** : JunSeok Lee, Yeonjun In\n",
        "- **E-mail** : junseoklee@kaist.ac.kr / yeonjun.in@kaist.ac.kr\n",
        "\n",
        "---\n",
        "## Prerequisites\n",
        "- Python and Numpy(by Stanford) : [notebook](https://colab.research.google.com/drive/16oppY6u8q3b1z22r__lEYD9UIsxLv9qz)\n",
        "- Pytorch(by Pytorch.kr)\n",
        "  - Tensor : [notebook](https://colab.research.google.com/drive/1OZa7KXAcYbVRjf9LFm8ck1Bs7MIwzmtr)\n",
        "  - Dataset&DataLoader : [notebook](https://colab.research.google.com/drive/16lap5mgvpVfphmZS0p8scWEkE9ngpMAF)\n",
        "  - AutoGrad : [notebook](https://colab.research.google.com/drive/1rekcI5kg_S4c_N2yJBeX_AdJNzqDDvAf)\n",
        "\n",
        "\n",
        "  If you are not familiar with these tools, I recommend you to follow above referenced notebook files before starting class\n",
        "\n",
        "---\n",
        "## Schedule\n",
        "- <font color='red'>Day 1</font> Machine Learning Basics\n",
        "  - Numpy Basics : [notebook](https://colab.research.google.com/drive/1GKkgsSCdg1dtznMmGBKIy1lGFKDWGaT3?usp=share_link)\n",
        "  - Logistic Regression : [notebook](https://colab.research.google.com/drive/1GKkgsSCdg1dtznMmGBKIy1lGFKDWGaT3?usp=share_link)\n",
        " \n",
        "\n",
        "\n",
        "\n",
        "- <font color='red'>Day 2</font> Deep Learning Basics\n",
        "    - MLP: [notebook](https://colab.research.google.com/drive/1OltUpM02FyQqCdkeeiw9UTdqLTuSEu7j?usp=sharing)\n",
        "    - AutoEncoder: [notebook](https://colab.research.google.com/drive/1Q0A-7o32eeIawpOC7Q87Sg1v-ZjLQ048?usp=sharing)\n",
        "    - CNN: [notebook](https://colab.research.google.com/drive/1agw5NTPBQ3VGpalJZlcitlC8uEpP7JZh?usp=sharing)\n",
        "\n",
        "- <font color='red'>Additional Materials </font> Graph Neural Networks : [notebook](https://colab.research.google.com/drive/1Wyg6ubNGDR0DOUkdJ8dxas4Hj5A8qqyE?usp=sharing)\n",
        "\n",
        "---\n",
        "## Assignment\n",
        "- I recommend you to review all of these courses thoroughly\n"
      ]
    },
    {
      "cell_type": "code",
      "source": [],
      "metadata": {
        "id": "6cRNl3Q-FA5l"
      },
      "execution_count": null,
      "outputs": []
    }
  ]
}